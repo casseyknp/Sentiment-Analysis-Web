{
  "nbformat": 4,
  "nbformat_minor": 0,
  "metadata": {
    "accelerator": "GPU",
    "colab": {
      "name": "Salinan dari MODEL LSTM.ipynb",
      "provenance": [],
      "collapsed_sections": []
    },
    "kernelspec": {
      "display_name": "Python 3",
      "name": "python3"
    }
  },
  "cells": [
    {
      "cell_type": "code",
      "metadata": {
        "colab": {
          "base_uri": "https://localhost:8080/"
        },
        "id": "hMa2bSYTCZz8",
        "outputId": "5fed267a-d6fe-4cce-efd8-1e2d439d4810"
      },
      "source": [
        "from google.colab import drive\n",
        "drive.mount('/content/drive')"
      ],
      "execution_count": null,
      "outputs": [
        {
          "output_type": "stream",
          "text": [
            "Mounted at /content/drive\n"
          ],
          "name": "stdout"
        }
      ]
    },
    {
      "cell_type": "code",
      "metadata": {
        "colab": {
          "base_uri": "https://localhost:8080/",
          "height": 475
        },
        "id": "GDfZBGJzweOv",
        "outputId": "f7d32352-5c7d-4027-ab59-8c2ef3004336"
      },
      "source": [
        "import pandas as pd\n",
        "import numpy as np\n",
        "np.random.seed(10)\n",
        "import re\n",
        "import ast\n",
        "import string\n",
        "from bs4 import BeautifulSoup\n",
        "\n",
        "from keras.preprocessing.sequence import pad_sequences\n",
        "from keras.preprocessing.text import Tokenizer\n",
        "from sklearn.model_selection import train_test_split\n",
        "from sklearn.model_selection import cross_val_score\n",
        "from sklearn.preprocessing import LabelEncoder\n",
        "\n",
        "data = pd.read_csv('/content/drive/MyDrive/Skripsi Collab/HASIL PREPROCESSING10.csv')\n",
        "datasenti = data[['Tweet', 'Sentimen']]\n",
        "\n",
        "MAX_NB_WORDS = 9799\n",
        "MAX_SEQUENCE_LENGHT = 50\n",
        "\n",
        "tokenizer = Tokenizer(num_words=MAX_NB_WORDS, split=\" \")\n",
        "tokenizer.fit_on_texts(data['Tweet'].values)\n",
        "word_index = tokenizer.word_index\n",
        "print('index %s' % len(word_index))\n",
        "print(word_index)\n",
        "X = tokenizer.texts_to_sequences(data['Tweet'].values)\n",
        "X = pad_sequences(X, maxlen=MAX_SEQUENCE_LENGHT)\n",
        "\n",
        "Y = pd.get_dummies(data['Sentimen']).values\n",
        "\n",
        "X_train, X_test, Y_train, Y_test = train_test_split(X, Y,  test_size=0.30, random_state=42 )\n"
      ],
      "execution_count": null,
      "outputs": [
        {
          "output_type": "error",
          "ename": "FileNotFoundError",
          "evalue": "ignored",
          "traceback": [
            "\u001b[0;31m---------------------------------------------------------------------------\u001b[0m",
            "\u001b[0;31mFileNotFoundError\u001b[0m                         Traceback (most recent call last)",
            "\u001b[0;32m<ipython-input-1-118a66c0090c>\u001b[0m in \u001b[0;36m<module>\u001b[0;34m()\u001b[0m\n\u001b[1;32m     13\u001b[0m \u001b[0;32mfrom\u001b[0m \u001b[0msklearn\u001b[0m\u001b[0;34m.\u001b[0m\u001b[0mpreprocessing\u001b[0m \u001b[0;32mimport\u001b[0m \u001b[0mLabelEncoder\u001b[0m\u001b[0;34m\u001b[0m\u001b[0;34m\u001b[0m\u001b[0m\n\u001b[1;32m     14\u001b[0m \u001b[0;34m\u001b[0m\u001b[0m\n\u001b[0;32m---> 15\u001b[0;31m \u001b[0mdata\u001b[0m \u001b[0;34m=\u001b[0m \u001b[0mpd\u001b[0m\u001b[0;34m.\u001b[0m\u001b[0mread_csv\u001b[0m\u001b[0;34m(\u001b[0m\u001b[0;34m'/content/drive/MyDrive/Skripsi Collab/HASIL PREPROCESSING10.csv'\u001b[0m\u001b[0;34m)\u001b[0m\u001b[0;34m\u001b[0m\u001b[0;34m\u001b[0m\u001b[0m\n\u001b[0m\u001b[1;32m     16\u001b[0m \u001b[0mdatasenti\u001b[0m \u001b[0;34m=\u001b[0m \u001b[0mdata\u001b[0m\u001b[0;34m[\u001b[0m\u001b[0;34m[\u001b[0m\u001b[0;34m'Tweet'\u001b[0m\u001b[0;34m,\u001b[0m \u001b[0;34m'Sentimen'\u001b[0m\u001b[0;34m]\u001b[0m\u001b[0;34m]\u001b[0m\u001b[0;34m\u001b[0m\u001b[0;34m\u001b[0m\u001b[0m\n\u001b[1;32m     17\u001b[0m \u001b[0;34m\u001b[0m\u001b[0m\n",
            "\u001b[0;32m/usr/local/lib/python3.7/dist-packages/pandas/io/parsers.py\u001b[0m in \u001b[0;36mread_csv\u001b[0;34m(filepath_or_buffer, sep, delimiter, header, names, index_col, usecols, squeeze, prefix, mangle_dupe_cols, dtype, engine, converters, true_values, false_values, skipinitialspace, skiprows, skipfooter, nrows, na_values, keep_default_na, na_filter, verbose, skip_blank_lines, parse_dates, infer_datetime_format, keep_date_col, date_parser, dayfirst, cache_dates, iterator, chunksize, compression, thousands, decimal, lineterminator, quotechar, quoting, doublequote, escapechar, comment, encoding, dialect, error_bad_lines, warn_bad_lines, delim_whitespace, low_memory, memory_map, float_precision)\u001b[0m\n\u001b[1;32m    686\u001b[0m     )\n\u001b[1;32m    687\u001b[0m \u001b[0;34m\u001b[0m\u001b[0m\n\u001b[0;32m--> 688\u001b[0;31m     \u001b[0;32mreturn\u001b[0m \u001b[0m_read\u001b[0m\u001b[0;34m(\u001b[0m\u001b[0mfilepath_or_buffer\u001b[0m\u001b[0;34m,\u001b[0m \u001b[0mkwds\u001b[0m\u001b[0;34m)\u001b[0m\u001b[0;34m\u001b[0m\u001b[0;34m\u001b[0m\u001b[0m\n\u001b[0m\u001b[1;32m    689\u001b[0m \u001b[0;34m\u001b[0m\u001b[0m\n\u001b[1;32m    690\u001b[0m \u001b[0;34m\u001b[0m\u001b[0m\n",
            "\u001b[0;32m/usr/local/lib/python3.7/dist-packages/pandas/io/parsers.py\u001b[0m in \u001b[0;36m_read\u001b[0;34m(filepath_or_buffer, kwds)\u001b[0m\n\u001b[1;32m    452\u001b[0m \u001b[0;34m\u001b[0m\u001b[0m\n\u001b[1;32m    453\u001b[0m     \u001b[0;31m# Create the parser.\u001b[0m\u001b[0;34m\u001b[0m\u001b[0;34m\u001b[0m\u001b[0;34m\u001b[0m\u001b[0m\n\u001b[0;32m--> 454\u001b[0;31m     \u001b[0mparser\u001b[0m \u001b[0;34m=\u001b[0m \u001b[0mTextFileReader\u001b[0m\u001b[0;34m(\u001b[0m\u001b[0mfp_or_buf\u001b[0m\u001b[0;34m,\u001b[0m \u001b[0;34m**\u001b[0m\u001b[0mkwds\u001b[0m\u001b[0;34m)\u001b[0m\u001b[0;34m\u001b[0m\u001b[0;34m\u001b[0m\u001b[0m\n\u001b[0m\u001b[1;32m    455\u001b[0m \u001b[0;34m\u001b[0m\u001b[0m\n\u001b[1;32m    456\u001b[0m     \u001b[0;32mif\u001b[0m \u001b[0mchunksize\u001b[0m \u001b[0;32mor\u001b[0m \u001b[0miterator\u001b[0m\u001b[0;34m:\u001b[0m\u001b[0;34m\u001b[0m\u001b[0;34m\u001b[0m\u001b[0m\n",
            "\u001b[0;32m/usr/local/lib/python3.7/dist-packages/pandas/io/parsers.py\u001b[0m in \u001b[0;36m__init__\u001b[0;34m(self, f, engine, **kwds)\u001b[0m\n\u001b[1;32m    946\u001b[0m             \u001b[0mself\u001b[0m\u001b[0;34m.\u001b[0m\u001b[0moptions\u001b[0m\u001b[0;34m[\u001b[0m\u001b[0;34m\"has_index_names\"\u001b[0m\u001b[0;34m]\u001b[0m \u001b[0;34m=\u001b[0m \u001b[0mkwds\u001b[0m\u001b[0;34m[\u001b[0m\u001b[0;34m\"has_index_names\"\u001b[0m\u001b[0;34m]\u001b[0m\u001b[0;34m\u001b[0m\u001b[0;34m\u001b[0m\u001b[0m\n\u001b[1;32m    947\u001b[0m \u001b[0;34m\u001b[0m\u001b[0m\n\u001b[0;32m--> 948\u001b[0;31m         \u001b[0mself\u001b[0m\u001b[0;34m.\u001b[0m\u001b[0m_make_engine\u001b[0m\u001b[0;34m(\u001b[0m\u001b[0mself\u001b[0m\u001b[0;34m.\u001b[0m\u001b[0mengine\u001b[0m\u001b[0;34m)\u001b[0m\u001b[0;34m\u001b[0m\u001b[0;34m\u001b[0m\u001b[0m\n\u001b[0m\u001b[1;32m    949\u001b[0m \u001b[0;34m\u001b[0m\u001b[0m\n\u001b[1;32m    950\u001b[0m     \u001b[0;32mdef\u001b[0m \u001b[0mclose\u001b[0m\u001b[0;34m(\u001b[0m\u001b[0mself\u001b[0m\u001b[0;34m)\u001b[0m\u001b[0;34m:\u001b[0m\u001b[0;34m\u001b[0m\u001b[0;34m\u001b[0m\u001b[0m\n",
            "\u001b[0;32m/usr/local/lib/python3.7/dist-packages/pandas/io/parsers.py\u001b[0m in \u001b[0;36m_make_engine\u001b[0;34m(self, engine)\u001b[0m\n\u001b[1;32m   1178\u001b[0m     \u001b[0;32mdef\u001b[0m \u001b[0m_make_engine\u001b[0m\u001b[0;34m(\u001b[0m\u001b[0mself\u001b[0m\u001b[0;34m,\u001b[0m \u001b[0mengine\u001b[0m\u001b[0;34m=\u001b[0m\u001b[0;34m\"c\"\u001b[0m\u001b[0;34m)\u001b[0m\u001b[0;34m:\u001b[0m\u001b[0;34m\u001b[0m\u001b[0;34m\u001b[0m\u001b[0m\n\u001b[1;32m   1179\u001b[0m         \u001b[0;32mif\u001b[0m \u001b[0mengine\u001b[0m \u001b[0;34m==\u001b[0m \u001b[0;34m\"c\"\u001b[0m\u001b[0;34m:\u001b[0m\u001b[0;34m\u001b[0m\u001b[0;34m\u001b[0m\u001b[0m\n\u001b[0;32m-> 1180\u001b[0;31m             \u001b[0mself\u001b[0m\u001b[0;34m.\u001b[0m\u001b[0m_engine\u001b[0m \u001b[0;34m=\u001b[0m \u001b[0mCParserWrapper\u001b[0m\u001b[0;34m(\u001b[0m\u001b[0mself\u001b[0m\u001b[0;34m.\u001b[0m\u001b[0mf\u001b[0m\u001b[0;34m,\u001b[0m \u001b[0;34m**\u001b[0m\u001b[0mself\u001b[0m\u001b[0;34m.\u001b[0m\u001b[0moptions\u001b[0m\u001b[0;34m)\u001b[0m\u001b[0;34m\u001b[0m\u001b[0;34m\u001b[0m\u001b[0m\n\u001b[0m\u001b[1;32m   1181\u001b[0m         \u001b[0;32melse\u001b[0m\u001b[0;34m:\u001b[0m\u001b[0;34m\u001b[0m\u001b[0;34m\u001b[0m\u001b[0m\n\u001b[1;32m   1182\u001b[0m             \u001b[0;32mif\u001b[0m \u001b[0mengine\u001b[0m \u001b[0;34m==\u001b[0m \u001b[0;34m\"python\"\u001b[0m\u001b[0;34m:\u001b[0m\u001b[0;34m\u001b[0m\u001b[0;34m\u001b[0m\u001b[0m\n",
            "\u001b[0;32m/usr/local/lib/python3.7/dist-packages/pandas/io/parsers.py\u001b[0m in \u001b[0;36m__init__\u001b[0;34m(self, src, **kwds)\u001b[0m\n\u001b[1;32m   2008\u001b[0m         \u001b[0mkwds\u001b[0m\u001b[0;34m[\u001b[0m\u001b[0;34m\"usecols\"\u001b[0m\u001b[0;34m]\u001b[0m \u001b[0;34m=\u001b[0m \u001b[0mself\u001b[0m\u001b[0;34m.\u001b[0m\u001b[0musecols\u001b[0m\u001b[0;34m\u001b[0m\u001b[0;34m\u001b[0m\u001b[0m\n\u001b[1;32m   2009\u001b[0m \u001b[0;34m\u001b[0m\u001b[0m\n\u001b[0;32m-> 2010\u001b[0;31m         \u001b[0mself\u001b[0m\u001b[0;34m.\u001b[0m\u001b[0m_reader\u001b[0m \u001b[0;34m=\u001b[0m \u001b[0mparsers\u001b[0m\u001b[0;34m.\u001b[0m\u001b[0mTextReader\u001b[0m\u001b[0;34m(\u001b[0m\u001b[0msrc\u001b[0m\u001b[0;34m,\u001b[0m \u001b[0;34m**\u001b[0m\u001b[0mkwds\u001b[0m\u001b[0;34m)\u001b[0m\u001b[0;34m\u001b[0m\u001b[0;34m\u001b[0m\u001b[0m\n\u001b[0m\u001b[1;32m   2011\u001b[0m         \u001b[0mself\u001b[0m\u001b[0;34m.\u001b[0m\u001b[0munnamed_cols\u001b[0m \u001b[0;34m=\u001b[0m \u001b[0mself\u001b[0m\u001b[0;34m.\u001b[0m\u001b[0m_reader\u001b[0m\u001b[0;34m.\u001b[0m\u001b[0munnamed_cols\u001b[0m\u001b[0;34m\u001b[0m\u001b[0;34m\u001b[0m\u001b[0m\n\u001b[1;32m   2012\u001b[0m \u001b[0;34m\u001b[0m\u001b[0m\n",
            "\u001b[0;32mpandas/_libs/parsers.pyx\u001b[0m in \u001b[0;36mpandas._libs.parsers.TextReader.__cinit__\u001b[0;34m()\u001b[0m\n",
            "\u001b[0;32mpandas/_libs/parsers.pyx\u001b[0m in \u001b[0;36mpandas._libs.parsers.TextReader._setup_parser_source\u001b[0;34m()\u001b[0m\n",
            "\u001b[0;31mFileNotFoundError\u001b[0m: [Errno 2] No such file or directory: '/content/drive/MyDrive/Skripsi Collab/HASIL PREPROCESSING10.csv'"
          ]
        }
      ]
    },
    {
      "cell_type": "code",
      "metadata": {
        "colab": {
          "base_uri": "https://localhost:8080/"
        },
        "id": "SGLq6hUfWmgC",
        "outputId": "1e46661b-8747-4722-963e-58b943f58902"
      },
      "source": [
        "X_train.shape"
      ],
      "execution_count": null,
      "outputs": [
        {
          "output_type": "execute_result",
          "data": {
            "text/plain": [
              "(3084, 70)"
            ]
          },
          "metadata": {
            "tags": []
          },
          "execution_count": 43
        }
      ]
    },
    {
      "cell_type": "code",
      "metadata": {
        "colab": {
          "base_uri": "https://localhost:8080/"
        },
        "id": "wpr8rXlc1soj",
        "outputId": "42ef1c98-e47d-4735-eb6f-fba6ead7fed8"
      },
      "source": [
        "\n",
        "from keras.layers import Embedding, LSTM, Dropout, Dense, Flatten\n",
        "from keras.regularizers import l2\n",
        "from keras.models import Sequential\n",
        "import keras\n",
        "\n",
        "MAX_NB_WORDS = 10130\n",
        "MAX_SEQUENCE_LENGHT = 50\n",
        "EMBEDDING_DIM = 50\n",
        "\n",
        "model = Sequential()\n",
        "embedding_layer = Embedding(MAX_NB_WORDS+1, EMBEDDING_DIM, input_length=X_train.shape[1])\n",
        "model.add(embedding_layer)\n",
        "model.add(LSTM(400, dropout=0.9))\n",
        "model.add(Dense(3, activation='softmax'))\n",
        "opt = keras.optimizers.Adam(learning_rate=0.0001)\n",
        "model.compile(loss='categorical_crossentropy', optimizer=opt, metrics=['accuracy'])\n",
        "model.summary()\n"
      ],
      "execution_count": null,
      "outputs": [
        {
          "output_type": "stream",
          "text": [
            "Model: \"sequential_10\"\n",
            "_________________________________________________________________\n",
            "Layer (type)                 Output Shape              Param #   \n",
            "=================================================================\n",
            "embedding_10 (Embedding)     (None, 50, 50)            506550    \n",
            "_________________________________________________________________\n",
            "lstm_10 (LSTM)               (None, 400)               721600    \n",
            "_________________________________________________________________\n",
            "dense_10 (Dense)             (None, 3)                 1203      \n",
            "=================================================================\n",
            "Total params: 1,229,353\n",
            "Trainable params: 1,229,353\n",
            "Non-trainable params: 0\n",
            "_________________________________________________________________\n"
          ],
          "name": "stdout"
        }
      ]
    },
    {
      "cell_type": "code",
      "metadata": {
        "colab": {
          "base_uri": "https://localhost:8080/"
        },
        "id": "qaVPuC9718Zn",
        "outputId": "64eb0a06-d538-4a89-88f7-ca100338adbe"
      },
      "source": [
        "\n",
        "epochs=45\n",
        "batch_size=32\n",
        "trainlstm = model.fit(X_train, Y_train, epochs=epochs, batch_size=batch_size, verbose=1,  validation_split=0.1)"
      ],
      "execution_count": null,
      "outputs": [
        {
          "output_type": "stream",
          "text": [
            "Epoch 1/45\n",
            "87/87 [==============================] - 3s 19ms/step - loss: 1.0986 - accuracy: 0.3345 - val_loss: 1.0957 - val_accuracy: 0.3528\n",
            "Epoch 2/45\n",
            "87/87 [==============================] - 1s 13ms/step - loss: 1.0948 - accuracy: 0.3654 - val_loss: 1.0925 - val_accuracy: 0.3592\n",
            "Epoch 3/45\n",
            "87/87 [==============================] - 1s 13ms/step - loss: 1.0888 - accuracy: 0.3929 - val_loss: 1.0901 - val_accuracy: 0.3463\n",
            "Epoch 4/45\n",
            "87/87 [==============================] - 1s 13ms/step - loss: 1.0851 - accuracy: 0.3991 - val_loss: 1.0877 - val_accuracy: 0.3883\n",
            "Epoch 5/45\n",
            "87/87 [==============================] - 1s 13ms/step - loss: 1.0750 - accuracy: 0.4115 - val_loss: 1.0809 - val_accuracy: 0.3722\n",
            "Epoch 6/45\n",
            "87/87 [==============================] - 1s 13ms/step - loss: 1.0634 - accuracy: 0.4212 - val_loss: 1.0701 - val_accuracy: 0.4078\n",
            "Epoch 7/45\n",
            "87/87 [==============================] - 1s 13ms/step - loss: 1.0557 - accuracy: 0.4314 - val_loss: 1.0517 - val_accuracy: 0.4272\n",
            "Epoch 8/45\n",
            "87/87 [==============================] - 1s 13ms/step - loss: 1.0384 - accuracy: 0.4678 - val_loss: 1.0370 - val_accuracy: 0.4498\n",
            "Epoch 9/45\n",
            "87/87 [==============================] - 1s 13ms/step - loss: 1.0293 - accuracy: 0.4892 - val_loss: 1.0187 - val_accuracy: 0.5081\n",
            "Epoch 10/45\n",
            "87/87 [==============================] - 1s 13ms/step - loss: 1.0070 - accuracy: 0.5084 - val_loss: 1.0209 - val_accuracy: 0.4919\n",
            "Epoch 11/45\n",
            "87/87 [==============================] - 1s 14ms/step - loss: 1.0016 - accuracy: 0.5134 - val_loss: 0.9784 - val_accuracy: 0.6117\n",
            "Epoch 12/45\n",
            "87/87 [==============================] - 1s 13ms/step - loss: 0.9453 - accuracy: 0.5678 - val_loss: 0.9411 - val_accuracy: 0.5825\n",
            "Epoch 13/45\n",
            "87/87 [==============================] - 1s 13ms/step - loss: 0.9219 - accuracy: 0.5537 - val_loss: 0.9153 - val_accuracy: 0.5922\n",
            "Epoch 14/45\n",
            "87/87 [==============================] - 1s 13ms/step - loss: 0.8983 - accuracy: 0.5768 - val_loss: 0.9061 - val_accuracy: 0.6505\n",
            "Epoch 15/45\n",
            "87/87 [==============================] - 1s 13ms/step - loss: 0.8852 - accuracy: 0.5899 - val_loss: 0.8724 - val_accuracy: 0.6343\n",
            "Epoch 16/45\n",
            "87/87 [==============================] - 1s 13ms/step - loss: 0.8412 - accuracy: 0.6155 - val_loss: 0.8405 - val_accuracy: 0.6861\n",
            "Epoch 17/45\n",
            "87/87 [==============================] - 1s 13ms/step - loss: 0.8459 - accuracy: 0.6224 - val_loss: 0.8197 - val_accuracy: 0.6990\n",
            "Epoch 18/45\n",
            "87/87 [==============================] - 1s 13ms/step - loss: 0.7973 - accuracy: 0.6411 - val_loss: 0.8073 - val_accuracy: 0.6602\n",
            "Epoch 19/45\n",
            "87/87 [==============================] - 1s 13ms/step - loss: 0.7860 - accuracy: 0.6525 - val_loss: 0.7702 - val_accuracy: 0.7087\n",
            "Epoch 20/45\n",
            "87/87 [==============================] - 1s 13ms/step - loss: 0.7427 - accuracy: 0.6844 - val_loss: 0.7856 - val_accuracy: 0.7573\n",
            "Epoch 21/45\n",
            "87/87 [==============================] - 1s 13ms/step - loss: 0.7398 - accuracy: 0.6736 - val_loss: 0.7416 - val_accuracy: 0.7379\n",
            "Epoch 22/45\n",
            "87/87 [==============================] - 1s 13ms/step - loss: 0.7066 - accuracy: 0.6945 - val_loss: 0.7383 - val_accuracy: 0.7346\n",
            "Epoch 23/45\n",
            "87/87 [==============================] - 1s 13ms/step - loss: 0.6871 - accuracy: 0.7210 - val_loss: 0.7045 - val_accuracy: 0.7443\n",
            "Epoch 24/45\n",
            "87/87 [==============================] - 1s 13ms/step - loss: 0.6412 - accuracy: 0.7337 - val_loss: 0.6849 - val_accuracy: 0.7638\n",
            "Epoch 25/45\n",
            "87/87 [==============================] - 1s 13ms/step - loss: 0.6717 - accuracy: 0.7123 - val_loss: 0.6829 - val_accuracy: 0.7605\n",
            "Epoch 26/45\n",
            "87/87 [==============================] - 1s 13ms/step - loss: 0.6553 - accuracy: 0.7184 - val_loss: 0.6701 - val_accuracy: 0.7605\n",
            "Epoch 27/45\n",
            "87/87 [==============================] - 1s 13ms/step - loss: 0.6233 - accuracy: 0.7398 - val_loss: 0.6508 - val_accuracy: 0.7702\n",
            "Epoch 28/45\n",
            "87/87 [==============================] - 1s 13ms/step - loss: 0.6214 - accuracy: 0.7415 - val_loss: 0.6362 - val_accuracy: 0.7670\n",
            "Epoch 29/45\n",
            "87/87 [==============================] - 1s 13ms/step - loss: 0.6295 - accuracy: 0.7408 - val_loss: 0.6247 - val_accuracy: 0.7702\n",
            "Epoch 30/45\n",
            "87/87 [==============================] - 1s 13ms/step - loss: 0.5803 - accuracy: 0.7557 - val_loss: 0.6201 - val_accuracy: 0.7767\n",
            "Epoch 31/45\n",
            "87/87 [==============================] - 1s 13ms/step - loss: 0.5690 - accuracy: 0.7635 - val_loss: 0.6201 - val_accuracy: 0.7702\n",
            "Epoch 32/45\n",
            "87/87 [==============================] - 1s 13ms/step - loss: 0.5675 - accuracy: 0.7706 - val_loss: 0.6159 - val_accuracy: 0.7832\n",
            "Epoch 33/45\n",
            "87/87 [==============================] - 1s 14ms/step - loss: 0.5414 - accuracy: 0.7691 - val_loss: 0.6082 - val_accuracy: 0.7735\n",
            "Epoch 34/45\n",
            "87/87 [==============================] - 1s 14ms/step - loss: 0.5053 - accuracy: 0.7998 - val_loss: 0.5968 - val_accuracy: 0.7735\n",
            "Epoch 35/45\n",
            "87/87 [==============================] - 1s 13ms/step - loss: 0.5004 - accuracy: 0.8074 - val_loss: 0.5814 - val_accuracy: 0.7767\n",
            "Epoch 36/45\n",
            "87/87 [==============================] - 1s 13ms/step - loss: 0.4808 - accuracy: 0.7934 - val_loss: 0.5831 - val_accuracy: 0.7832\n",
            "Epoch 37/45\n",
            "87/87 [==============================] - 1s 13ms/step - loss: 0.4999 - accuracy: 0.7965 - val_loss: 0.5883 - val_accuracy: 0.7735\n",
            "Epoch 38/45\n",
            "87/87 [==============================] - 1s 13ms/step - loss: 0.4571 - accuracy: 0.8212 - val_loss: 0.5785 - val_accuracy: 0.7929\n",
            "Epoch 39/45\n",
            "87/87 [==============================] - 1s 13ms/step - loss: 0.4729 - accuracy: 0.8285 - val_loss: 0.5715 - val_accuracy: 0.7832\n",
            "Epoch 40/45\n",
            "87/87 [==============================] - 1s 13ms/step - loss: 0.4774 - accuracy: 0.8146 - val_loss: 0.5664 - val_accuracy: 0.7799\n",
            "Epoch 41/45\n",
            "87/87 [==============================] - 1s 13ms/step - loss: 0.4674 - accuracy: 0.8137 - val_loss: 0.5694 - val_accuracy: 0.7864\n",
            "Epoch 42/45\n",
            "87/87 [==============================] - 1s 13ms/step - loss: 0.4436 - accuracy: 0.8276 - val_loss: 0.5712 - val_accuracy: 0.7929\n",
            "Epoch 43/45\n",
            "87/87 [==============================] - 1s 13ms/step - loss: 0.4352 - accuracy: 0.8375 - val_loss: 0.5561 - val_accuracy: 0.7994\n",
            "Epoch 44/45\n",
            "87/87 [==============================] - 1s 14ms/step - loss: 0.4386 - accuracy: 0.8307 - val_loss: 0.5699 - val_accuracy: 0.7767\n",
            "Epoch 45/45\n",
            "87/87 [==============================] - 1s 13ms/step - loss: 0.4343 - accuracy: 0.8176 - val_loss: 0.5574 - val_accuracy: 0.7799\n"
          ],
          "name": "stdout"
        }
      ]
    },
    {
      "cell_type": "code",
      "metadata": {
        "colab": {
          "base_uri": "https://localhost:8080/",
          "height": 573
        },
        "id": "dgYYIy1X2K6B",
        "outputId": "9e64cc41-eac2-4462-9652-a3352fadb518"
      },
      "source": [
        "import matplotlib.pyplot as plt\n",
        "\n",
        "plt.plot(trainlstm.history['accuracy'])\n",
        "plt.plot(trainlstm.history['val_accuracy'])\n",
        "plt.title('Training Accuracy and Validation Accurasy')\n",
        "plt.ylabel('accuracy')\n",
        "plt.xlabel('epoch')\n",
        "plt.legend(['train', 'val'])\n",
        "plt.show()\n",
        "plt.plot(trainlstm.history['loss'])\n",
        "plt.plot(trainlstm.history['val_loss'])\n",
        "plt.title('Training Loss and Validation Loss')\n",
        "plt.ylabel('loss')\n",
        "plt.xlabel('epoch')\n",
        "plt.legend(['train', 'val'])\n",
        "plt.show()\n"
      ],
      "execution_count": null,
      "outputs": [
        {
          "output_type": "display_data",
          "data": {
            "image/png": "[encoded data removed]",
            "text/plain": [
              "<Figure size 432x288 with 1 Axes>"
            ]
          },
          "metadata": {
            "tags": [],
            "needs_background": "light"
          }
        },
        {
          "output_type": "display_data",
          "data": {
            "image/png": "[encoded data removed]",
            "text/plain": [
              "<Figure size 432x288 with 1 Axes>"
            ]
          },
          "metadata": {
            "tags": [],
            "needs_background": "light"
          }
        }
      ]
    },
    {
      "cell_type": "code",
      "metadata": {
        "colab": {
          "base_uri": "https://localhost:8080/"
        },
        "id": "GcJCD2rG2Mix",
        "outputId": "20db6dba-be7a-46a3-90e3-c24c2597dac4"
      },
      "source": [
        "#Cek akurasi data test\n",
        "\n",
        "scores = model.evaluate(X_test,Y_test)\n",
        "print(\"Accuracy: %.2f%%\" % (scores[1]*100))\n"
      ],
      "execution_count": null,
      "outputs": [
        {
          "output_type": "stream",
          "text": [
            "42/42 [==============================] - 0s 6ms/step - loss: 0.5788 - accuracy: 0.7716\n",
            "Accuracy: 77.16%\n"
          ],
          "name": "stdout"
        }
      ]
    },
    {
      "cell_type": "code",
      "metadata": {
        "colab": {
          "base_uri": "https://localhost:8080/"
        },
        "id": "1yGD6bTW8Cdi",
        "outputId": "5f8685e9-02c1-4662-9534-b8e77057a716"
      },
      "source": [
        "#hitung prediksi di tiap jenis label\n",
        "predictions = model.predict(X_test)\n",
        "neg_count, neu_count, pos_count = 0, 0, 0\n",
        "real_neg, real_neu, real_pos = 0, 0, 0\n",
        "for i, prediction in enumerate(predictions):\n",
        "  if np.argmax(prediction)==2:\n",
        "    pos_count += 1\n",
        "  elif np.argmax(prediction)==1:\n",
        "    neu_count += 1\n",
        "  else:\n",
        "    neg_count += 1\n",
        "\n",
        "  if np.argmax(Y_test[i])==2:\n",
        "    real_pos += 1\n",
        "  elif np.argmax(Y_test[i])==1:\n",
        "    real_neu += 1\n",
        "  else:\n",
        "    real_neg += 1\n",
        "\n",
        "print('Positive predictions: ', pos_count)\n",
        "print('Neutral predictions: ', neu_count)\n",
        "print('Negative predictions: ', neg_count)\n",
        "print('Real positive: ', real_pos )\n",
        "print('Real neutral: ', real_neu )\n",
        "print('Real negative: ', real_neg )"
      ],
      "execution_count": null,
      "outputs": [
        {
          "output_type": "stream",
          "text": [
            "Positive predictions:  437\n",
            "Neutral predictions:  489\n",
            "Negative predictions:  396\n",
            "Real positive:  443\n",
            "Real neutral:  467\n",
            "Real negative:  412\n"
          ],
          "name": "stdout"
        }
      ]
    },
    {
      "cell_type": "code",
      "metadata": {
        "colab": {
          "base_uri": "https://localhost:8080/",
          "height": 575
        },
        "id": "TarEqZau8Ygz",
        "outputId": "c90fc544-2074-43a0-c2c4-7e18f4f7eb1c"
      },
      "source": [
        "#confusian matrix\n",
        "from sklearn.metrics import classification_report, confusion_matrix\n",
        "print(confusion_matrix(Y_test.argmax(axis=1), predictions.argmax(axis=1)) )\n",
        "\n",
        "import seaborn as sns\n",
        "import matplotlib.pyplot as plt\n",
        "f, ax = plt.subplots(figsize=(8,5))\n",
        "sns.heatmap(confusion_matrix(Y_test.argmax(axis=1),predictions.argmax(axis=1) ), annot=True, fmt=\".0f\", ax=ax)\n",
        "plt.ylabel(\"y_true\")\n",
        "plt.xlabel(\"y_pred\")\n",
        "plt.show()\n",
        "\n",
        "#precision, recall, f1-score\n",
        "from sklearn.metrics import classification_report\n",
        "print (classification_report(Y_test.argmax(axis=1),predictions.argmax(axis=1)))"
      ],
      "execution_count": null,
      "outputs": [
        {
          "output_type": "stream",
          "text": [
            "[[313  79  20]\n",
            " [ 61 348  58]\n",
            " [ 22  62 359]]\n"
          ],
          "name": "stdout"
        },
        {
          "output_type": "display_data",
          "data": {
            "image/png": "[encoded data removed]",
            "text/plain": [
              "<Figure size 576x360 with 2 Axes>"
            ]
          },
          "metadata": {
            "tags": [],
            "needs_background": "light"
          }
        },
        {
          "output_type": "stream",
          "text": [
            "              precision    recall  f1-score   support\n",
            "\n",
            "           0       0.79      0.76      0.77       412\n",
            "           1       0.71      0.75      0.73       467\n",
            "           2       0.82      0.81      0.82       443\n",
            "\n",
            "    accuracy                           0.77      1322\n",
            "   macro avg       0.77      0.77      0.77      1322\n",
            "weighted avg       0.77      0.77      0.77      1322\n",
            "\n"
          ],
          "name": "stdout"
        }
      ]
    },
    {
      "cell_type": "code",
      "metadata": {
        "id": "AkAVly4E8hak"
      },
      "source": [
        "#save model\n",
        "model.save('/content/drive/MyDrive/model/LSTM1.h5')"
      ],
      "execution_count": null,
      "outputs": []
    }
  ]
}